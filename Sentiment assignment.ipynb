{
 "cells": [
  {
   "cell_type": "code",
   "execution_count": 1,
   "id": "fa21a987-e979-4d0d-be7b-bbe70454ad25",
   "metadata": {},
   "outputs": [],
   "source": [
    "# IMPORTS\n",
    "import re, numpy as np, random\n",
    "from nltk.tokenize import sent_tokenize\n",
    "from nltk.tokenize import word_tokenize\n",
    "import matplotlib.pyplot as plt\n",
    "from vaderSentiment.vaderSentiment import SentimentIntensityAnalyzer\n",
    "from pathlib import Path\n",
    "from nltk.sentiment import SentimentIntensityAnalyzer\n",
    "sia = SentimentIntensityAnalyzer()"
   ]
  },
  {
   "cell_type": "code",
   "execution_count": 2,
   "id": "e6737644-1b42-45b4-8c06-788873508268",
   "metadata": {},
   "outputs": [
    {
     "name": "stdout",
     "output_type": "stream",
     "text": [
      "166\n"
     ]
    }
   ],
   "source": [
    "films=[]\n",
    "for p in Path(\"C:/Users/forem/Code/text-as-data/people/Foreman/Adventure\").glob('*.txt'):\n",
    "    with open(p, mode=\"r\", encoding=\"utf-8\") as f:\n",
    "        film = f.read()\n",
    "        films.append(film)\n",
    "\n",
    "\n",
    "print(len(films))"
   ]
  },
  {
   "cell_type": "code",
   "execution_count": 3,
   "id": "4d0b6f10-b04d-4f12-9dac-5159af616d5c",
   "metadata": {
    "scrolled": true
   },
   "outputs": [
    {
     "name": "stdout",
     "output_type": "stream",
     "text": [
      "{'neg': 0.09, 'neu': 0.77, 'pos': 0.14, 'compound': 1.0}\n"
     ]
    }
   ],
   "source": [
    "sample = random.choice(films)\n",
    "# print(sample)\n",
    "print(sia.polarity_scores(sample))"
   ]
  },
  {
   "cell_type": "code",
   "execution_count": 4,
   "id": "4f382f20-d667-41d4-b1f0-26d560073d54",
   "metadata": {
    "scrolled": true
   },
   "outputs": [
    {
     "name": "stdout",
     "output_type": "stream",
     "text": [
      "Positive Words: ['FAIR', 'WORTH', 'CLEAR.', 'LOVE', 'BEAUTY', 'share', 'BEAUTIFUL!', 'POWERFUL!', 'STRONGER', 'STRONGER', 'STRONGER', 'FAIR', 'WORTH', 'CLEAR.', 'LOVE', 'BEAUTY', 'play.', 'play', 'want', 'smiles.', 'hand.', 'excited.', 'laughs', 'amazing!', 'laughing.', 'PLAY', 'like', 'warm', 'hugs.', 'hugs', 'love', 'fearlessly', 'hand!', 'Please,', 'help.', 'luckily,', 'bright', 'hand', 'hugs', 'Cuties.', 'GRAND', 'determined.', 'respectfully', 'GRAND', 'stronger.', 'Grand', 'GRAND', 'lucky', 'easily', 'GRAND', 'recommend', 'fun.', 'Grand', 'energy', 'Grand', 'play', 'GRAND', 'okay.', 'best.', 'creating', 'beauty', 'great', 'protect', 'sure.', 'gentle', 'Want', 'WANT', 'PLAY.', 'LIKE', 'plays', 'BEST', 'WISH', 'WANT', 'longingly.', 'freeze', 'help.', 'hand.', 'WANT', 'gaining', 'courageous', 'like', 'playing', 'stronger.', 'hug', 'want', 'fine,', 'PLEASE', 'COURAGE', 'PLEASE', 'WANT', 'Welcome', 'excitedly', 'like', 'want,', 'Please!', 'Share!', 'care', 'riches.', 'Dignitary.', 'lovely.', 'DIGNITARY', 'beautiful.', 'Yeah?', 'startling', 'ready.', 'Ready', 'excitement.', 'Ha', 'ha!', 'help', 'WOW', 'READY', 'ELATED', 'like', 'like', 'gorgeous,', 'SOPHISTICATED', 'GRACE.', 'BEAUTIFUL', 'FAIR.', 'LAUGH', 'LIKE', 'top', 'FUN.', 'DREAM', 'ROMANCE.', 'CHANCE!', 'poised', 'GOOD', 'reassure', 'excitement', 'admiring', 'GOOD', 'CHANCE', 'CHANCE', 'TRUE', 'LOVE', 'sure', 'handsome', 'okay.', 'sure?', 'Yeah,', 'okay.', 'great,', 'thank', 'goodness.', 'hand', 'helps', 'top', 'top', 'Ha.', 'gorgeous.', 'helps', 'like', 'apologize', 'fine.', 'lucky', 'smiles,', 'amused.', 'smiles', 'handsomeness.', 'better', 'better', 'reaches', 'ok', 'freeze', 'GREAT', 'Great', 'Laugh.', 'poised', 'surprisingly', 'sure?', 'beautiful.', 'Thank', 'beautiful.', 'Thank', 'party', 'like?', 'warmer', 'amazing', 'laugh.', 'party.', 'funny', 'hand,', 'giggles.', 'giggle', 'Thank', 'Lucky', 'best', 'Like', 'great', 'laughter.', 'funny,', 'Like', 'ready', 'Well,', 'sprightly.', 'okay?', 'better.', 'nice.', 'wish', 'like', 'smile', 'emotional.', 'Excuse', 'smiles', 'perfectly.', 'Glad', 'romantic', 'hand.', 'laughs.', 'helps', 'sure.', 'kissed', 'like', 'Yeah,', 'laugh', 'Okay', 'hand.', 'Okay,', 'love', '\"Love', 'like.', 'PARTY', 'LIKE', 'top', 'LOVE', 'LOVE', 'LOVE', 'LOVE', 'LIKE', 'top', 'LOVE', 'play', 'stable', 'LOVE', 'top', 'LOVE', 'Yes.', 'Pardon.', 'Thank', 'Yes!', 'Well,', 'invite', 'please.', 'Fine.', 'true', 'love.', 'true', 'love?', 'blessing,', 'excuse', 'ease', 'party', 'hand.', 'reaches', 'please.', 'Please.', 'like', 'party', 'hand,', 'CHEER!', 'hand.', 'freeze', 'Please,', 'hand', 'please!', 'reaches', 'best', 'Yes.', 'Fine.', 'please.', 'care', 'honor.', 'sure', 'trust', 'want', 'Well', 'LIKE', 'LIKE', 'HEAVEN', 'GOOD', 'WELL,', 'creates', 'like', 'CARE', 'FUNNY', 'FREE!', 'creates', 'creative', 'intricate', 'LIKE', 'creates', 'LIKE', 'free.', 'PERFECT', 'freeze', 'reaching', 'top', 'warm', 'STABLE', 'happily.', 'great.', 'dear?', 'Excuse', 'dear,', 'good.', 'want', 'Help', 'Okay,', 'Yes!', 'Okay.', 'Okay,', 'free.', 'great', 'good', 'relaxes', 'playing', 'Better', 'BETTER', 'TRUE?', 'YEAH,', 'thanks,', 'BETTER', 'TRUE,', 'GOOD', 'Nice', 'want?', 'want', 'Please.', 'clearly', 'top', 'like', 'like', 'fresh', 'clean', 'well,', 'engaged', 'bless', 'engaged', 'Yeah.', 'engaged', 'Yes.', 'Yes,', 'yeah?', 'favorite', 'Best', 'matter.', 'Excuse', 'matter;', 'true', 'love.', 'like', 'true', 'love.', 'love', 'friends', 'friends', 'love', 'like', 'hand', 'help.', 'trust', 'Excuse', 'true', 'love!', 'dear', 'reaches', 'hand,', 'ready', 'safely', 'clearly', 'matters', 'helps', 'safety.', 'want', 'help', 'want', 'help', 'helping', 'like', 'happily.', 'sure.', 'fine.', 'straight', 'like', 'like', 'like', 'beautiful.', 'beautiful,', 'joy', 'like', 'want', 'Please', 'smiles', 'happily,', 'like', 'Thank', 'welcome.', 'perfect.', 'innocent', 'Well,', 'Woo!', 'okay?', 'kidding', 'wonderful!', 'cute.', 'like', 'reaches', 'love', 'like', 'warm', 'hugs.', 'easier', 'Ha.', 'kiss', 'like', 'Yeah.', 'Curious,', 'Yeah.', 'Yeah.', 'Yeah,', 'loved', 'like', 'like', 'PERFECT', 'HAND', 'GORGEOUSLY', 'SOLID', 'WARM.', 'INTENSE', 'GOOD', 'Smiles.', 'HAPPY', 'relaxes', 'LIKE', 'DREAM', 'RELAXING', 'smiles.', 'hand', 'happily', 'like', 'solid', 'Like', 'Great', 'freeze', 'nice', 'protect', 'Easy.', 'Easy.', 'prepared', 'casual', 'carefully', 'Yeah.', 'nicest,', 'gentlest,', 'warmest', 'laughs', 'like', 'straight', 'want', 'friends,', 'love', 'Yes,', 'love', 'smiles,', 'sure', 'solve', 'want', 'Ha', 'ha.', 'Thank', 'goodness.', 'Thanks!', 'like', 'trust', 'fearless', 'elegant', 'easy.', 'admiring', 'Ha.', 'Okay.', 'great', 'beautiful,', 'longingly.', 'help', 'beauty.', 'good', 'amazing.', 'Thank', 'capable', 'okay.', 'please.', 'like', 'warm', 'hugs.', 'alive?', 'like', 'like', 'smiles,', 'protect', 'protect', 'Please', 'PLEASE', 'HAND', 'HAND.', 'top', 'grateful,', 'determined.', 'PLEASE', 'AWAITS.', 'ENJOY', 'Yeah,', 'WELL,', 'YES,', 'FREE.', 'SAFE', 'FEELING', 'kind', 'okay,', 'Sure', 'FREE!', 'ESCAPE', 'PLEASE,', 'BRIGHT.', 'SAFE', 'strong,', 'like', 'okay?', 'fine.', 'determined', 'matter.', 'Yes,', 'hand', 'stronger', 'nice', 'Calm', 'want', 'Okay.', 'Calm.', 'Okay.', 'fresh', 'like', 'Hopefully.', 'Okay,', 'like', 'ready', 'Okay.', 'ready', 'ready!', 'Yes!', 'Calm', 'huge', 'top,', 'good', 'good', 'like', 'laughs.', 'like', 'favor,', 'better.', 'funny', 'cute', 'like', 'help', 'easily.', 'okay?', 'Thank', 'giggle.', 'fine.', 'good.', 'Ha.', 'like', 'join', 'help.', 'Okay!', 'friends.', 'love', 'Love', 'Yes.', 'like', 'love', 'bright.', 'reaches', 'like', 'hand', 'nice.', 'friends,', 'like', 'Yeah.', 'want', 'well.', 'reassuringly.', 'wonderful.', 'smiles,', 'appreciating', 'Okay', 'courage,', 'greeting,', 'nice', 'love', 'love', 'backing', 'Okay.', 'excitedly.', 'want', 'strength.', 'thank', 'Great', 'top', 'good', 'like', 'Bright', 'Strong', 'Yes,', 'yes,', 'yes.', 'nicely', 'laughs,', 'dear?', 'WELL', 'SWEET.', 'PECULIAR', 'DEAR.', 'CERTAIN', 'LOVE.', 'LIKES', 'FONDNESS', 'HONEST', 'HUGS.', 'engaged', 'POWERFUL', 'LOVE', 'LOVE', 'BEST!', 'TRUE', 'LOVE', 'BEST!', 'beautiful', 'TRUE', 'TRUE', 'TRUE', 'TRUE', 'LOVE', 'LOVE!', 'Grand', 'clear', 'GRAND', 'Grand', 'GRAND', 'helps', 'GRAND', 'solid', 'freeze,', 'Grand', 'GRAND', 'easy.', 'true', 'love', 'true', 'love?', 'true', 'kiss,', 'kisses.', 'Help', 'helps', 'kiss', 'safety.', 'top', 'top', 'Please.', 'creates', 'help', 'swift', 'overwhelmed,', 'advantage', 'like', 'fit', 'like', 'solid', 'freeze', 'alive!', 'gratefully.', 'okay?', 'help', 'warm', 'Thank', 'sure', 'safe!', 'dignitaries', 'DIGNITARY', 'DIGNITARY', 'kiss', 'kiss', 'true', 'love', 'save', 'true', 'kiss.', 'hand', 'smile.', 'loved', 'chance.', 'love', 'like', 'Please.', 'hand', 'gently.', 'hand,', 'hero', 'save', 'Please,', 'help.', 'growing', 'freeze', 'DIGNITARY', 'DIGNITARIES', 'help', 'brilliant', 'DIGNITARY', 'perfect', 'authority', 'sentence', 'resolve.', 'like', 'true', 'love.', 'Help.', 'giggle', 'fresh', 'rescues,', 'love', 'reaches', 'help', 'kiss?', 'true', 'love.', 'Please', 'true', 'love', 'save', 'love', 'okay,', 'soothing', 'hand', 'Love', 'like,', 'loves', 'Wow,', 'love,', 'worth', 'Wow,', 'love', 'Help', 'Please.', 'warm.', 'excited', 'hope.', 'true', 'love,', 'like', 'strong', 'reach', 'bravely', 'safety,', 'Good', 'determined.', 'care', 'save', 'dignitaries', 'top', 'giving', 'strength,', 'solid', 'please', 'hugs', 'dignitaries', 'warms.', 'smiles', 'relieved.', 'embrace.', 'love', 'excited', 'true', 'love', 'confidence.', 'Love.', 'warmth', 'warm', 'best', 'hand', 'loves', 'prepared', 'hand', 'proud', 'satisfied,', 'hugs', 'smiles', 'brighter,', 'happy.', 'beautiful', 'DIGNITARY', 'thanks', 'innocent.', 'excited', 'perfect', 'Okay.', 'Okay.', 'beautiful,', 'Yes.', 'accept', 'medal', 'like', 'help', 'admire', 'enthusiasm.', 'Sure', 'like', 'Like', 'love', 'kiss', 'like', 'kiss', 'smiles', 'true', 'kiss,', 'alright.', 'enjoying', 'safely', 'free', 'hugs', 'happily.', 'ready?', 'cheer.', 'creates', 'ready,', 'hope', 'beautiful', 'like', 'hand', 'beautiful,', 'laughs', 'delight.', 'helps']\n"
     ]
    }
   ],
   "source": [
    "positive_words = [word for word in sample.split() if sia.polarity_scores(word)['compound'] > 0]\n",
    "print(\"Positive Words:\", positive_words)"
   ]
  },
  {
   "cell_type": "markdown",
   "id": "155d402a-22c9-4e7f-a849-7628ae9daec3",
   "metadata": {},
   "source": [
    "Some movies such as Jurassic Park have their positive word count flooded with the main protagonist name if they are seen\n",
    "as heroic or helpful."
   ]
  },
  {
   "cell_type": "code",
   "execution_count": 5,
   "id": "4bc33774-2ac6-4497-9a62-e3a124fbb546",
   "metadata": {},
   "outputs": [
    {
     "name": "stdout",
     "output_type": "stream",
     "text": [
      "Number of Positive Words: 844\n"
     ]
    }
   ],
   "source": [
    "positive_word_count = len([word for word in sample.split() if sia.polarity_scores(word)['compound'] > 0])\n",
    "print(\"Number of Positive Words:\", positive_word_count)\n",
    "# This is just for comparison between the total number of positive words when the cells before are rerun to pull a\n",
    "# different text file"
   ]
  },
  {
   "cell_type": "code",
   "execution_count": 6,
   "id": "b72b0126-9c66-4d15-b17b-d84d2855b610",
   "metadata": {
    "scrolled": true
   },
   "outputs": [
    {
     "name": "stdout",
     "output_type": "stream",
     "text": [
      "Negative Words: ['cuts', 'drag', 'blocks', 'CUT', 'STRIKE', 'STRIKE', 'FEAR.', 'struggles', 'block', 'fails,', 'DANGEROUS!', 'threateningly.', 'fight', 'drag', 'CUT', 'block', 'STRIKE', 'STRIKE', 'FEAR.', 'DANGER', 'block', 'defeated.', 'accidentally', 'STRIKES', 'struck,', 'frightening', 'accident.', 'sorry,', 'SLAM', 'CUT', 'alone', 'SLAM', 'CUT', 'hide', 'frightened', 'crushed!', 'stop', 'worry,', 'leave', 'danger.', 'panic', 'attack', 'Fear', 'enemy.', 'No.', 'disappears.', 'confused', 'sad.', 'sad.', 'Alone,', 'EMPTY', 'no', 'LONELY', 'EMPTY', 'bored', 'panics.', 'scared.', 'upset', 'worse.', 'No.', 'hurt', 'alarmed', 'sadness.', 'stopping.', 'leave', 'rages', 'lost', 'mourning', 'mourning', 'suspended', 'grief.', 'fault.', 'exploit', 'leave', 'sore', 'CUT', 'Sorry', 'No,', 'SLAM', 'CUT', 'EMPTY', 'NO', 'Hides', 'STRANGE.', 'ALONE.', 'ridiculous.', 'BIZARRE.', 'CRAZY', 'WRONG', 'cut', 'nerves.', 'AGONY', 'AGONY', 'LEAVE', 'sorry.', 'hurt?', 'no.', 'No.', 'Awkward.', 'awkward.', 'awkward,', 'awkward.', 'No.', 'stops,', 'no.', 'CUT', 'hesitates.', 'nervously,', 'shake.', 'HELL-', 'CUT', 'awkwardly.', 'awkward', 'interrupts.', 'protest.', 'desperately.', 'Sorry.', 'awful.', 'suspicious.', 'CUT', 'sore', 'saddened.', 'Sorry.', 'mistake', 'horrible.', 'crazy?', 'crazy.', 'Cut', 'empty', 'CRAZY.', 'No.', 'PAIN', 'hide', 'crazier?', 'CUT', 'Sorry.', 'awkwardly.', 'sorry,', 'confused.', 'No,', 'no,', 'no,', 'no,', 'no.', 'No', 'No', 'Alone.', 'worried', 'No.', 'no.', 'No,', 'no.', 'No,', 'panic.', 'fights', 'tears.', 'leave.', 'hurt', 'No.', 'cry', 'shock,', 'dubious', 'CUT', 'backs', 'shock', 'fear', 'Stop', 'accidentally', 'panics.', 'flees.', 'freezes', 'freezes', 'freezes', 'stop!', 'No.', 'panicking', 'No.', 'No.', 'fright.', 'stopped!', 'no!', 'hides', 'No.', 'No.', 'killed', 'accident.', 'scared.', 'fault.', 'no.', 'dangerous.', 'dangerous.', 'No,', 'desperation', 'leave', 'hurt.', 'hurt', 'stops,', 'ISOLATION', 'SLAM', 'RAGE', 'BOTHERED', 'FEARS', 'NO', 'NO', 'WRONG,', 'NO', 'CRY.', 'RAGE', 'RAGE', 'BOTHERED', 'CUT', 'sorry.', 'struggle', 'stinker.', 'startles', 'no.', 'No.', 'No.', 'No.', 'No.', 'No.', 'No.', 'struggles,', 'Fire!', 'crash', 'low', 'lonely', 'crazy', 'No,', 'no', 'demand', 'problem.', 'demand', 'problem?', 'blocks', 'unfortunate.', 'no', 'No', 'low', 'sorry', 'violence.', 'CUT', 'CURSE', 'CHEAT', 'BAD,', 'stop', 'lies', 'leave', 'Ugh!', 'Sorry.', 'Sorry.', 'sorry.', 'leave', 'anxiously.', 'Annoyed,', 'SLAM', 'CUT', 'scare', 'Seriously,', 'No,', 'fault.', 'freaked', 'mad', 'mad', 'Pay', 'dirt.', 'warn', 'hate', 'hate', 'No.', 'stops,', 'alarm.', 'Stop', 'No,', 'no,', 'no.', 'No.', 'screams,', 'shocked.', 'loose', 'dragged', 'fire.', 'fire!', 'cries', 'loses', 'loose', 'hopeless.', 'No,', 'no,', 'no.', 'worse,', 'AXE', 'NO,', 'NO,', 'NO!', 'axe', 'axe', 'exhausted.', 'sadly.', 'ruined', 'die', 'wrong', 'wrong', 'dead.', 'stops', 'SCREAMS!', 'drop', 'No!', 'bad', 'confused.', 'accidentally', 'hard.', 'sorry!', 'confused.', 'Stop', 'lies', 'stops', 'nuts.', 'weak', 'Anxiety', 'fighting', 'No.', 'No.', 'wicked', 'destroy', 'threatening', 'hesitate', 'treason.', 'alarmed', 'alone,', 'panicked', 'trouble.', 'CUT', 'hostile', 'stop', 'stunned', 'stops', 'backs', 'dead', 'kill', 'distracting', 'blocking', 'disappear', 'alone.', 'alone.', 'stuck.', 'shake.', 'problem,', 'crazy', 'cry.', 'Hesitates.', 'stops', 'stops', 'eerie.', 'struck', 'sorry', 'backs', 'No,', 'backs', 'No,', 'Alone.', 'hurting', 'stops', 'intimidated.', 'CUT', 'struck', 'CUT', 'pain.', 'No,', 'SLAM', 'FEAR.', 'LEAVE', 'ALONE', 'ALONE', 'No,', 'FOOL!', 'NO', 'fight', 'CURSE!', 'WORSE!', 'PANIC.', 'FEAR!', 'lose', 'NO!', 'disappears', 'cries', 'fear,', 'sucks', 'STRUCK', 'pain', 'hide', 'pain.', 'No,', 'stop', 'stop', 'No.', 'SLAM', 'CUT', 'Stop.', 'stuck', 'Incensed,', 'backs', 'infuriate', 'shoot', 'mad!', 'distract', 'No,', 'no,', 'stop', 'hard', 'stop', 'stop!', 'drop.', 'axe.', 'angry', 'fight.', 'mess,', 'wrong', 'struggling', 'stops.', 'lost', 'NO!', 'stop', 'Ugh.', 'cuts', 'SCREAM!', 'SLAM!', 'misses.', 'stuck', 'pain', 'awkwardness', 'killing', 'worry', 'Worry', 'bad.', 'No,', 'struck', 'bad?', 'hesitated.', 'No,', 'worry;', 'CUT', 'distraught.', 'Stops.', 'scare', 'stubborn', 'dumbfounded.', 'crazy.', 'distract', 'shock', 'stops,', 'confused,', 'shocked', 'confused.', 'No.', 'fire', 'confused,', 'No.', 'wrong', 'uncomfortable,', 'WEIRDNESS', 'stop', 'problem', 'SCARED?', 'No,', 'ISOLATION', 'DESPERATION', 'NO', 'STRANGE.', 'BAD', 'MAD', 'SCARED', 'STRESSED.', '86', 'shockingly', 'collapses.', 'stops', 'strange', 'weak', 'danger.', 'No.', 'collapsing', 'CUT', 'no', 'harm', 'flees', 'trap', 'No.', 'stops', 'attack.', 'fights', 'crushed', 'die.', 'threaten', 'falling', 'death.', 'destruction', 'death.', 'fear', 'rage.', 'frightened,', 'death.', 'stops.', 'frightened.', 'lower', 'CUT', 'strains', 'falling.', 'kill', 'danger', 'worry.', 'stop', 'desperate.', 'distraught,', 'CUT', 'charges', 'weakening.', 'disappears', 'CUT', 'stop', 'worry', 'worried', 'sick.', 'freezing.', 'poor', 'freezing.', 'worry', 'reluctantly', 'CUT', 'risk', 'hesitates,', 'weak', 'alone.', 'struck', 'hurt', 'wrong.', 'weak.', 'stops.', 'no', 'desperate', 'accident', 'fire.', 'stop', 'weak.', 'No,', 'stop.', 'doomed', 'dumb', 'kill', 'no', 'No,', 'no', 'destruction.', 'struggles', 'CUT', 'death.', 'distraught', 'weak', 'grief.', 'killed', 'died', 'grief.', 'no', 'doubt', 'grave', 'danger.', 'treason', 'death.', 'devastating', 'dangerous.', 'Broken', 'CUT', 'lags', 'Stops', 'wrong', 'Stop', 'hard', 'No,', 'angrily.', 'violent', 'hesitating,', 'CUT', 'Stops.', 'lying', 'no.', 'fire.', 'fire.', 'fire.', 'wrong', 'stubbornly.', 'panics,', 'worry,', 'struggles', 'wrong.', 'leave', 'No,', 'no,', 'no,', 'no,', 'no.', 'fire', 'pressure.', 'collapses.', 'struggle', 'block', 'trapped.', 'desperately', 'weak', 'struggles', 'fight', 'CUT', 'struggles', 'struggles', 'freezing', 'disappears', 'CUT', 'CUT', 'lost', 'struggles', 'fear', 'backs', 'weak', 'No.', 'broken.', 'stops.', 'freezes', 'suspended,', 'trapped', 'grief.', 'longing', 'No!', 'freezes', 'no.', 'cries.', 'shocked', 'despair.', 'somber', 'fight.', 'stops', 'unacceptable.', 'victim', 'fear.', 'traumatized.', 'hurts.', 'demand', 'no', 'Sorry.', 'stops.', 'serious?', 'No.', 'No', 'No', 'embarrassed.', 'sucks', 'sadness.', 'fear,', 'CUT', 'stops', 'freezes']\n"
     ]
    }
   ],
   "source": [
    "negative_words = [word for word in sample.split() if sia.polarity_scores(word)['compound'] < 0]\n",
    "print(\"Negative Words:\", negative_words)"
   ]
  },
  {
   "cell_type": "markdown",
   "id": "12d2a6d8-5c27-4926-a91f-bdf8a1e6ec4c",
   "metadata": {},
   "source": []
  },
  {
   "cell_type": "code",
   "execution_count": 7,
   "id": "16a86e2e-c95f-4692-a763-4e673ea0ab0d",
   "metadata": {},
   "outputs": [
    {
     "name": "stdout",
     "output_type": "stream",
     "text": [
      "Number of Negative Words: 659\n"
     ]
    }
   ],
   "source": [
    "negative_word_count = len([word for word in sample.split() if sia.polarity_scores(word)['compound'] < 0])\n",
    "print(\"Number of Negative Words:\", negative_word_count)\n",
    "# This is just for comparison between the total number of negative words when the cells before are rerun to pull a different\n",
    "# text file"
   ]
  },
  {
   "cell_type": "markdown",
   "id": "5cf64b91-075b-468f-b7d5-bc61168ada39",
   "metadata": {},
   "source": [
    "All code above just pulls a random single text file from the films list and displays the list of positive and negative numbers along with the counts for each."
   ]
  },
  {
   "cell_type": "code",
   "execution_count": 8,
   "id": "998074a1-724f-4d8e-b371-900d26f46113",
   "metadata": {},
   "outputs": [
    {
     "name": "stdout",
     "output_type": "stream",
     "text": [
      "\t\t\t\t    2001: A SPACE ODYSSEY\n",
      "\n",
      "\t\t\t\t\t    Screenplay\n",
      "\n",
      "\t\t\t\t\t\t   by\n",
      "\n",
      "\t\t\t   Stanley Kubrick and Arthur C.\n"
     ]
    }
   ],
   "source": [
    "text = films[2]\n",
    "print(text[0:100])"
   ]
  },
  {
   "cell_type": "code",
   "execution_count": 9,
   "id": "57586bca-5489-4868-8f5f-bb7a0bda8727",
   "metadata": {},
   "outputs": [
    {
     "name": "stdout",
     "output_type": "stream",
     "text": [
      "{'neg': 0.086, 'neu': 0.797, 'pos': 0.117, 'compound': 1.0}\n"
     ]
    }
   ],
   "source": [
    "print(sia.polarity_scores(text))"
   ]
  },
  {
   "cell_type": "markdown",
   "id": "2d721373-c92c-4d53-a54e-e02ebc4d9fe3",
   "metadata": {},
   "source": [
    "The two code blocks above create a new item named text based on the films list that allows you to pull\n",
    "a specified file from the films list. With this new item the next code block runs and returns a polarity score."
   ]
  },
  {
   "cell_type": "code",
   "execution_count": 10,
   "id": "67f68685-ffd2-432c-a90a-19271c89de48",
   "metadata": {},
   "outputs": [
    {
     "name": "stdout",
     "output_type": "stream",
     "text": [
      "1188\n",
      "1287\n"
     ]
    }
   ],
   "source": [
    "sentences = sent_tokenize(text)\n",
    "# print(sentences[0:10])\n",
    "\n",
    "scores = []\n",
    "for sentence in sentences:\n",
    "    score = sia.polarity_scores(sentence)[\"compound\"]\n",
    "    scores.append(score)\n",
    "\n",
    "# print(scores[10:100])\n",
    "\n",
    "# Program to calculate moving average\n",
    "window_size = 100\n",
    "\n",
    "i = 0\n",
    "# Initialize an empty list to store moving averages\n",
    "moving_averages = []\n",
    "\n",
    "# Loop through the array to consider\n",
    "# every window of size 3\n",
    "while i < len(scores) - window_size + 1:\n",
    "\n",
    "\t# Store elements from i to i+window_size\n",
    "\t# in list to get the current window\n",
    "\twindow = scores[i : i + window_size]\n",
    "\n",
    "\t# Calculate the average of current window\n",
    "\twindow_average = round(sum(window) / window_size, 2)\n",
    "\t\n",
    "\t# Store the average of current\n",
    "\t# window in moving average list\n",
    "\tmoving_averages.append(window_average)\n",
    "\t\n",
    "\t# Shift window to right by one position\n",
    "\ti += 1\n",
    "\n",
    "print(len(moving_averages))\n",
    "print(len(scores))"
   ]
  },
  {
   "cell_type": "markdown",
   "id": "22edbb67-cf8b-4231-adcc-3b16f708b070",
   "metadata": {},
   "source": [
    "The code block above is all the necessary steps to create a sentiment analysis based on the sentences and return the compund scores.\n",
    "Then it creates an adjustable moving average to go and return an average based on the window size"
   ]
  },
  {
   "cell_type": "code",
   "execution_count": 11,
   "id": "eddd1298-21a6-48b0-9439-453f61368580",
   "metadata": {},
   "outputs": [],
   "source": [
    "values = enumerate(moving_averages)\n",
    "x, y = zip(*values)"
   ]
  },
  {
   "cell_type": "markdown",
   "id": "f8143170-ffd5-406b-ad47-2166fa42e49f",
   "metadata": {},
   "source": [
    "The second line of code in the block above takes the value pairs in values and unpacks them into\n",
    "separate list"
   ]
  },
  {
   "cell_type": "code",
   "execution_count": 12,
   "id": "1febf625-8c55-4442-b234-0b412bd54e1c",
   "metadata": {},
   "outputs": [
    {
     "data": {
      "image/png": "[encoded data removed]",
      "text/plain": [
       "<Figure size 640x480 with 1 Axes>"
      ]
     },
     "metadata": {},
     "output_type": "display_data"
    }
   ],
   "source": [
    "plt.plot(x, y)\n",
    "plt.show()"
   ]
  },
  {
   "cell_type": "code",
   "execution_count": 13,
   "id": "5f619f54-5b78-4568-9478-872beb43078a",
   "metadata": {},
   "outputs": [],
   "source": [
    "titles= []\n",
    "\n",
    "for p in Path('C:/Users/forem/Code/text-as-data/people/Foreman/Adventure').glob('*.txt'):\n",
    "    with open(p, mode=\"r\", encoding=\"utf-16\") as f:\n",
    "        title = p.name[:-4]\n",
    "        titles.append(title)"
   ]
  },
  {
   "cell_type": "code",
   "execution_count": 15,
   "id": "33a1d69f-88a1-46ae-901d-e9874f561bcd",
   "metadata": {},
   "outputs": [
    {
     "name": "stdout",
     "output_type": "stream",
     "text": [
      "127hours: Score: -1.0\n",
      "1492conquestofparadise: Score: 0.9997\n",
      "2001aspaceodyssey: Score: 1.0\n",
      "2012: Score: -0.6817\n",
      "30minutesorless: Score: -1.0\n",
      "9: Score: -1.0\n",
      "abyssthe: Score: -1.0\n",
      "adventuresofbuckaroobanzaiacrosstheeighthdimensionthe: Score: 0.9998\n",
      "airforceone: Score: -1.0\n",
      "antz: Score: 0.9995\n",
      "armyofdarkness: Score: -1.0\n",
      "avatar: Score: 0.9999\n",
      "avengersthe: Score: 0.9999\n",
      "avengersthe2012: Score: -1.0\n",
      "beachthe: Score: 0.9995\n",
      "bigfish: Score: 1.0\n",
      "bookofelithe: Score: -0.9997\n",
      "bourneidentitythe: Score: -0.9999\n",
      "bourneultimatumthe: Score: -1.0\n",
      "brokenarrow: Score: -1.0\n",
      "brothersbloomthe: Score: 0.9997\n",
      "cars2: Score: 1.0\n",
      "castaway: Score: 0.9931\n",
      "chroniclesofnarniathelionthewitchandthewardrobe: Score: -0.9988\n",
      "cirquedufreakthevampiresassistant: Score: -1.0\n",
      "clashofthetitans: Score: -0.9998\n",
      "cliffhanger: Score: -1.0\n",
      "conanthebarbarian: Score: -1.0\n",
      "coraline: Score: 0.9999\n",
      "croodsthe: Score: -0.9054\n",
      "crouchingtigerhiddendragon: Score: -0.9992\n",
      "danceswithwolves: Score: 0.9999\n",
      "despicableme2: Score: 0.9999\n",
      "detroitrockcity: Score: 1.0\n",
      "djangounchained: Score: -0.9999\n",
      "dogma: Score: -1.0\n",
      "dragonslayer: Score: -0.9977\n",
      "dumbanddumber: Score: 0.9999\n",
      "dune: Score: -0.9999\n",
      "e.t.: Score: -0.9977\n",
      "escapefroml.a.: Score: -0.9999\n",
      "escapefromnewyork: Score: -0.9999\n",
      "excalibur: Score: -0.9993\n",
      "existenz: Score: 0.9999\n",
      "fantasticfour: Score: 0.9997\n",
      "fantasticmrfox: Score: -0.9996\n",
      "findingnemo: Score: 1.0\n",
      "flashgordon: Score: -0.9901\n",
      "fourfeathers: Score: -1.0\n",
      "frozendisney: Score: 1.0\n",
      "fugitivethe: Score: -1.0\n",
      "g.i.joetheriseofcobra: Score: -0.9998\n",
      "ghostandthedarknessthe: Score: -1.0\n",
      "ghostbusters2: Score: 0.9999\n",
      "ghostship: Score: -0.9999\n",
      "haroldandkumargotowhitecastle: Score: -1.0\n",
      "heavymetal: Score: -1.0\n",
      "hellboy: Score: -0.9999\n",
      "hellboy2thegoldenarmy: Score: -0.9999\n",
      "highlanderendgame: Score: -0.9998\n",
      "hitchhikersguidetothegalaxythe: Score: 0.9999\n",
      "howtotrainyourdragon: Score: -1.0\n",
      "howtotrainyourdragon2: Score: -0.9999\n",
      "hudsonhawk: Score: 0.9999\n",
      "huntforredoctoberthe: Score: -1.0\n",
      "imaginariumofdoctorparnassusthe: Score: 0.9998\n",
      "inception: Score: -0.9999\n",
      "indianajonesandthelastcrusade: Score: 0.999\n",
      "indianajonesandtheraidersofthelostark: Score: 0.9999\n",
      "indianajonesandthetempleofdoom: Score: -1.0\n",
      "indianajonesiv: Score: -1.0\n",
      "inglouriousbasterds: Score: 1.0\n",
      "intothewild: Score: 1.0\n",
      "italianjobthe: Score: 0.9955\n",
      "jaws: Score: -0.9998\n",
      "jaws2: Score: -0.9998\n",
      "jayandsilentbobstrikeback: Score: 0.9997\n",
      "jurassicpark: Score: 1.0\n",
      "jurassicparkiii: Score: 1.0\n",
      "jurassicparkthelostworld: Score: -1.0\n",
      "kingkong: Score: -1.0\n",
      "labyrinth: Score: 1.0\n",
      "lastofthemohicansthe: Score: -1.0\n",
      "lastsamuraithe: Score: -0.9999\n",
      "legend: Score: -0.9999\n",
      "lifeofpi: Score: -0.9992\n",
      "logansrun: Score: 0.9999\n",
      "lordoftheringsfellowshipoftheringthe: Score: 0.8662\n",
      "lordoftheringsreturnoftheking: Score: -1.0\n",
      "lordoftheringsthetwotowers: Score: -0.9999\n",
      "losersthe: Score: -1.0\n",
      "losthorizon: Score: 1.0\n",
      "lostinspace: Score: 0.9996\n",
      "madmax2theroadwarrior: Score: -1.0\n",
      "manintheironmask: Score: -1.0\n",
      "manwhoknewtoomuchthe: Score: 1.0\n",
      "masterandcommander: Score: 0.9999\n",
      "missionimpossible: Score: -0.9983\n",
      "missionimpossibleii: Score: -0.9991\n",
      "missiontomars: Score: 0.9999\n",
      "montecarlo: Score: 1.0\n",
      "mulan: Score: 0.9999\n",
      "mummythe: Score: -1.0\n",
      "newyorkminute: Score: 0.9999\n",
      "oblivion: Score: -0.9997\n",
      "paranorman: Score: -1.0\n",
      "paul: Score: 0.9999\n",
      "piratesofthecaribbean: Score: 1.0\n",
      "piratesofthecaribbeandeadmanschest: Score: 0.9999\n",
      "pointbreak: Score: -0.9997\n",
      "pokemonmewtworeturns: Score: 0.9994\n",
      "postmanthe: Score: 0.9736\n",
      "princessbridethe: Score: -1.0\n",
      "prometheus: Score: -1.0\n",
      "rambofirstbloodiithemission: Score: -1.0\n",
      "rescuersdownunderthe: Score: 0.9999\n",
      "riseoftheguardians: Score: 1.0\n",
      "roadthe: Score: -1.0\n",
      "robinhoodprinceofthieves: Score: -1.0\n",
      "serenity: Score: -1.0\n",
      "sherlockholmes: Score: -0.9998\n",
      "shrek: Score: 1.0\n",
      "shrekthethird: Score: 1.0\n",
      "sideways: Score: 1.0\n",
      "snowwhiteandthehuntsman: Score: -0.9999\n",
      "spiderman: Score: 0.9991\n",
      "starman: Score: -0.9511\n",
      "startrek: Score: -0.9999\n",
      "startrekfirstcontact: Score: -0.9999\n",
      "startrekgenerations: Score: -0.9514\n",
      "startrekiithewrathofkhan: Score: 0.9999\n",
      "startreknemesis: Score: 1.0\n",
      "starwarsanewhope: Score: -1.0\n",
      "starwarsattackoftheclones: Score: 0.9998\n",
      "starwarsreturnofthejedi: Score: -1.0\n",
      "starwarstheempirestrikesback: Score: -1.0\n",
      "starwarsthephantommenace: Score: 0.9102\n",
      "stuntmanthe: Score: -1.0\n",
      "supergirl: Score: 1.0\n",
      "terminatorsalvation: Score: -1.0\n",
      "thor: Score: -0.8358\n",
      "threekings: Score: -1.0\n",
      "threekingsspoilsofwar: Score: -1.0\n",
      "threemusketeersthe: Score: 1.0\n",
      "thunderbirds: Score: 0.9997\n",
      "timemachinethe: Score: 0.9998\n",
      "tmnt: Score: -0.9928\n",
      "tomorrowneverdies: Score: -0.9999\n",
      "totalrecall: Score: -0.9997\n",
      "tristanandisolde: Score: 0.9996\n",
      "tron: Score: 0.9997\n",
      "tronlegacy: Score: 0.9943\n",
      "tropicthunder: Score: -1.0\n",
      "truegrit: Score: -0.9995\n",
      "truelies: Score: -0.9997\n",
      "up: Score: 1.0\n",
      "walle: Score: -0.9995\n",
      "waroftheworlds: Score: -0.9995\n",
      "waybackthe: Score: -1.0\n",
      "whitesquall: Score: -0.9984\n",
      "wildhogs: Score: 1.0\n",
      "willow: Score: -0.9999\n",
      "wizardofozthe: Score: -1.0\n",
      "worldisnotenoughthe: Score: -1.0\n",
      "xxx: Score: -1.0\n",
      "yearone: Score: 0.9999\n"
     ]
    }
   ],
   "source": [
    "for i, film in enumerate(films):\n",
    "    file_name = titles[i]\n",
    "    scores1 = sia.polarity_scores(film)[\"compound\"]\n",
    "    print(f\"{file_name}: Score: {scores1}\")"
   ]
  },
  {
   "cell_type": "code",
   "execution_count": null,
   "id": "6bc86a6c-35e7-498c-b1e7-2a7e36c64558",
   "metadata": {},
   "outputs": [],
   "source": []
  }
 ],
 "metadata": {
  "kernelspec": {
   "display_name": "Python 3 (ipykernel)",
   "language": "python",
   "name": "python3"
  },
  "language_info": {
   "codemirror_mode": {
    "name": "ipython",
    "version": 3
   },
   "file_extension": ".py",
   "mimetype": "text/x-python",
   "name": "python",
   "nbconvert_exporter": "python",
   "pygments_lexer": "ipython3",
   "version": "3.11.7"
  }
 },
 "nbformat": 4,
 "nbformat_minor": 5
}
